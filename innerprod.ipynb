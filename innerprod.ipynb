{
 "cells": [
  {
   "cell_type": "code",
   "execution_count": 1,
   "metadata": {},
   "outputs": [],
   "source": [
    "import qiskit as qk\n",
    "import qiskit.quantum_info as qi\n",
    "import numpy as np\n",
    "\n",
    "from qiskit import Aer"
   ]
  },
  {
   "cell_type": "code",
   "execution_count": 2,
   "metadata": {},
   "outputs": [],
   "source": [
    "backend = Aer.get_backend('qasm_simulator')\n",
    "\n",
    "nqubits=2"
   ]
  },
  {
   "attachments": {},
   "cell_type": "markdown",
   "metadata": {},
   "source": [
    "Consider the two generic quantum states $\\ket{\\psi}$ and $\\ket{\\phi}$. We want to calculate with quantum hardware the quantity\n",
    "$$\n",
    "\\braket{\\psi\\, |\\, \\phi}.\n",
    "$$\n",
    "\n",
    "First of all we shall prepare the states $\\ket{\\psi}$ and $\\ket{\\phi}$ using a quantum circuit for each of them. So we actually have\n",
    "$$\n",
    "\\ket{\\psi} = U_{\\psi}\\ket{0} \\qquad \\ket{\\phi} = U_{\\phi}\\ket{0}\n",
    "$$"
   ]
  },
  {
   "cell_type": "code",
   "execution_count": 3,
   "metadata": {},
   "outputs": [],
   "source": [
    "def Upsi(nqubits):\n",
    "    '''Prepare the state $\\psi$ as you prefer'''\n",
    "    qc = qk.QuantumCircuit(nqubits)\n",
    "\n",
    "    # customize this part\n",
    "    qc.h(0)\n",
    "    qc.h(1)\n",
    "    #\n",
    "    \n",
    "    return qc\n"
   ]
  },
  {
   "cell_type": "code",
   "execution_count": 4,
   "metadata": {},
   "outputs": [],
   "source": [
    "psi = qi.Statevector.from_instruction(Upsi(nqubits))"
   ]
  },
  {
   "cell_type": "code",
   "execution_count": 5,
   "metadata": {},
   "outputs": [],
   "source": [
    "def Uphi(nqubits):\n",
    "    '''Prepare the state $\\phi$ as you prefer'''\n",
    "    qc = qk.QuantumCircuit(nqubits)\n",
    "\n",
    "    # customize this part\n",
    "    qc.x(0)\n",
    "    #\n",
    "    \n",
    "    return qc"
   ]
  },
  {
   "cell_type": "code",
   "execution_count": 6,
   "metadata": {},
   "outputs": [],
   "source": [
    "phi = qi.Statevector.from_instruction(Uphi(nqubits))"
   ]
  },
  {
   "attachments": {},
   "cell_type": "markdown",
   "metadata": {},
   "source": [
    "Now we can evaluate the matrix element using the following fact:\n",
    "$$\n",
    "\\braket{\\psi\\, |\\, \\phi} = \\bra{0}U_\\psi^\\dag U_\\phi\\ket{0}\n",
    "$$\n",
    "This is just an expectation value which can be solved with a simple Hadamard test."
   ]
  },
  {
   "cell_type": "code",
   "execution_count": 7,
   "metadata": {},
   "outputs": [],
   "source": [
    "# Analytical derivation\n",
    "braket_expected = phi.inner(psi).real"
   ]
  },
  {
   "cell_type": "code",
   "execution_count": 12,
   "metadata": {},
   "outputs": [],
   "source": [
    "# Quantum Hardware derivation\n",
    "def braket(qc_psi, qc_phi, shots=10000):\n",
    "    qr = qk.QuantumRegister(nqubits+1)\n",
    "    cr = qk.ClassicalRegister(1)\n",
    "    qc_main = qk.QuantumCircuit(qr, cr)\n",
    "\n",
    "    # get the unitaries out of psi and phi definitions\n",
    "    U_psi = qk.extensions.UnitaryGate(qi.Operator(qc_psi))\n",
    "    U_phi = qk.extensions.UnitaryGate(qi.Operator(qc_phi))\n",
    "\n",
    "    # Initialize a temp circuit to convert (Upsi Uphi) into a controlled gate\n",
    "    qc_temp = qk.QuantumCircuit(nqubits, name=\"VU\")\n",
    "    qc_temp.append(U_phi, list(range(nqubits)))\n",
    "    qc_temp.append(U_psi.adjoint(), list(range(nqubits)))\n",
    "        # make it controlled\n",
    "    VU = qc_temp.to_gate().control(1)\n",
    "\n",
    "    # Perform hadamard test\n",
    "    qc_main.h(0)\n",
    "    qc_main.append(VU, list(range(nqubits+1)))\n",
    "    qc_main.h(0)\n",
    "    qc_main.measure(qr[0], cr[0])\n",
    "\n",
    "    counts = qk.execute(qc_main, backend, shots=shots).result().get_counts()\n",
    "    if len(counts)==1:\n",
    "        try:\n",
    "            counts['0']\n",
    "            mean_val = 1\n",
    "        except:\n",
    "            mean_val = -1\n",
    "    else:\n",
    "        mean_val = (counts['0']-counts['1'])/shots\n",
    "        #from binomial\n",
    "        error = np.sqrt(2*counts['0']*counts['1']/shots)/shots\n",
    "\n",
    "    return mean_val, error\n",
    "    "
   ]
  },
  {
   "cell_type": "code",
   "execution_count": 14,
   "metadata": {},
   "outputs": [],
   "source": [
    "braket_observed, braket_error = braket(Upsi(nqubits), Uphi(nqubits))"
   ]
  },
  {
   "cell_type": "code",
   "execution_count": 15,
   "metadata": {},
   "outputs": [
    {
     "name": "stdout",
     "output_type": "stream",
     "text": [
      "Analytical value:\t 0.4999999999999999\n",
      "Observed value:\t\t 0.5054  +-  0.0061015196467765305\n"
     ]
    }
   ],
   "source": [
    "print(\"Analytical value:\\t\", braket_expected)\n",
    "print(\"Observed value:\\t\\t\", braket_observed, ' +- ', braket_error)"
   ]
  },
  {
   "cell_type": "code",
   "execution_count": null,
   "metadata": {},
   "outputs": [],
   "source": []
  }
 ],
 "metadata": {
  "kernelspec": {
   "display_name": "Python 3",
   "language": "python",
   "name": "python3"
  },
  "language_info": {
   "codemirror_mode": {
    "name": "ipython",
    "version": 3
   },
   "file_extension": ".py",
   "mimetype": "text/x-python",
   "name": "python",
   "nbconvert_exporter": "python",
   "pygments_lexer": "ipython3",
   "version": "3.10.10"
  },
  "orig_nbformat": 4
 },
 "nbformat": 4,
 "nbformat_minor": 2
}
